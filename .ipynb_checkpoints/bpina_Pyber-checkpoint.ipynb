{
 "cells": [
  {
   "cell_type": "code",
   "execution_count": 2,
   "metadata": {},
   "outputs": [
    {
     "data": {
      "text/plain": [
       "city             object\n",
       "driver_count      int64\n",
       "type             object\n",
       "date             object\n",
       "fare            float64\n",
       "ride_id           int64\n",
       "dtype: object"
      ]
     },
     "execution_count": 2,
     "metadata": {},
     "output_type": "execute_result"
    }
   ],
   "source": [
    "# Include this line to make plots interactive\n",
    "%matplotlib notebook\n",
    "\n",
    "# Import our dependencies\n",
    "import matplotlib.pyplot as plt\n",
    "import numpy as np\n",
    "import pandas as pd\n",
    "\n",
    "# File Paths\n",
    "CityFilePath = \"data/city_data.csv\"\n",
    "RideFilePath = \"data/ride_data.csv\"\n",
    "\n",
    "\n",
    "# Read the City and Ride Data\n",
    "# Read data into Data Frames\n",
    "DF_City = pd.read_csv(CityFilePath)\n",
    "DF_Ride = pd.read_csv(RideFilePath)\n",
    "\n",
    "# Combine the data into a single dataset\n",
    "DF_Combined = pd.merge(DF_City , DF_Ride , on = \"city\") \n",
    "\n",
    "DF_Combined.dtypes\n",
    "# DF_Combined[\"fare\"] = pd.to_numeric(DF_Combined[\"fare\"] )"
   ]
  },
  {
   "cell_type": "code",
   "execution_count": 9,
   "metadata": {
    "scrolled": true
   },
   "outputs": [
    {
     "data": {
      "text/html": [
       "<div>\n",
       "<style scoped>\n",
       "    .dataframe tbody tr th:only-of-type {\n",
       "        vertical-align: middle;\n",
       "    }\n",
       "\n",
       "    .dataframe tbody tr th {\n",
       "        vertical-align: top;\n",
       "    }\n",
       "\n",
       "    .dataframe thead th {\n",
       "        text-align: right;\n",
       "    }\n",
       "</style>\n",
       "<table border=\"1\" class=\"dataframe\">\n",
       "  <thead>\n",
       "    <tr style=\"text-align: right;\">\n",
       "      <th></th>\n",
       "      <th>city</th>\n",
       "      <th>driver_count</th>\n",
       "      <th>type</th>\n",
       "      <th>date</th>\n",
       "      <th>fare</th>\n",
       "      <th>ride_id</th>\n",
       "    </tr>\n",
       "  </thead>\n",
       "  <tbody>\n",
       "    <tr>\n",
       "      <th>0</th>\n",
       "      <td>Richardfort</td>\n",
       "      <td>38</td>\n",
       "      <td>Urban</td>\n",
       "      <td>2018-02-24 08:40:38</td>\n",
       "      <td>13.93</td>\n",
       "      <td>5628545007794</td>\n",
       "    </tr>\n",
       "    <tr>\n",
       "      <th>1</th>\n",
       "      <td>Richardfort</td>\n",
       "      <td>38</td>\n",
       "      <td>Urban</td>\n",
       "      <td>2018-02-13 12:46:07</td>\n",
       "      <td>14.00</td>\n",
       "      <td>910050116494</td>\n",
       "    </tr>\n",
       "    <tr>\n",
       "      <th>2</th>\n",
       "      <td>Richardfort</td>\n",
       "      <td>38</td>\n",
       "      <td>Urban</td>\n",
       "      <td>2018-02-16 13:52:19</td>\n",
       "      <td>17.92</td>\n",
       "      <td>820639054416</td>\n",
       "    </tr>\n",
       "    <tr>\n",
       "      <th>3</th>\n",
       "      <td>Richardfort</td>\n",
       "      <td>38</td>\n",
       "      <td>Urban</td>\n",
       "      <td>2018-02-01 20:18:28</td>\n",
       "      <td>10.26</td>\n",
       "      <td>9554935945413</td>\n",
       "    </tr>\n",
       "    <tr>\n",
       "      <th>4</th>\n",
       "      <td>Richardfort</td>\n",
       "      <td>38</td>\n",
       "      <td>Urban</td>\n",
       "      <td>2018-04-17 02:26:37</td>\n",
       "      <td>23.00</td>\n",
       "      <td>720020655850</td>\n",
       "    </tr>\n",
       "    <tr>\n",
       "      <th>5</th>\n",
       "      <td>Richardfort</td>\n",
       "      <td>38</td>\n",
       "      <td>Urban</td>\n",
       "      <td>2018-04-21 03:44:04</td>\n",
       "      <td>9.54</td>\n",
       "      <td>3698147103219</td>\n",
       "    </tr>\n",
       "    <tr>\n",
       "      <th>6</th>\n",
       "      <td>Richardfort</td>\n",
       "      <td>38</td>\n",
       "      <td>Urban</td>\n",
       "      <td>2018-02-03 00:14:26</td>\n",
       "      <td>29.04</td>\n",
       "      <td>4982665519010</td>\n",
       "    </tr>\n",
       "    <tr>\n",
       "      <th>7</th>\n",
       "      <td>Richardfort</td>\n",
       "      <td>38</td>\n",
       "      <td>Urban</td>\n",
       "      <td>2018-02-08 15:50:12</td>\n",
       "      <td>16.55</td>\n",
       "      <td>2270463070874</td>\n",
       "    </tr>\n",
       "    <tr>\n",
       "      <th>8</th>\n",
       "      <td>Richardfort</td>\n",
       "      <td>38</td>\n",
       "      <td>Urban</td>\n",
       "      <td>2018-04-03 15:07:34</td>\n",
       "      <td>40.77</td>\n",
       "      <td>9496210735824</td>\n",
       "    </tr>\n",
       "    <tr>\n",
       "      <th>9</th>\n",
       "      <td>Richardfort</td>\n",
       "      <td>38</td>\n",
       "      <td>Urban</td>\n",
       "      <td>2018-02-19 14:09:20</td>\n",
       "      <td>27.11</td>\n",
       "      <td>8690324801449</td>\n",
       "    </tr>\n",
       "  </tbody>\n",
       "</table>\n",
       "</div>"
      ],
      "text/plain": [
       "          city  driver_count   type                 date   fare        ride_id\n",
       "0  Richardfort            38  Urban  2018-02-24 08:40:38  13.93  5628545007794\n",
       "1  Richardfort            38  Urban  2018-02-13 12:46:07  14.00   910050116494\n",
       "2  Richardfort            38  Urban  2018-02-16 13:52:19  17.92   820639054416\n",
       "3  Richardfort            38  Urban  2018-02-01 20:18:28  10.26  9554935945413\n",
       "4  Richardfort            38  Urban  2018-04-17 02:26:37  23.00   720020655850\n",
       "5  Richardfort            38  Urban  2018-04-21 03:44:04   9.54  3698147103219\n",
       "6  Richardfort            38  Urban  2018-02-03 00:14:26  29.04  4982665519010\n",
       "7  Richardfort            38  Urban  2018-02-08 15:50:12  16.55  2270463070874\n",
       "8  Richardfort            38  Urban  2018-04-03 15:07:34  40.77  9496210735824\n",
       "9  Richardfort            38  Urban  2018-02-19 14:09:20  27.11  8690324801449"
      ]
     },
     "execution_count": 9,
     "metadata": {},
     "output_type": "execute_result"
    }
   ],
   "source": [
    "# Display the data table for preview\n",
    "DF_Combined.head(10)"
   ]
  },
  {
   "cell_type": "markdown",
   "metadata": {},
   "source": [
    "## Bubble Plot of Ride Sharing Data"
   ]
  },
  {
   "cell_type": "code",
   "execution_count": 8,
   "metadata": {
    "scrolled": true
   },
   "outputs": [],
   "source": [
    "# Obtain the x and y coordinates for each of the three city types\n",
    "UrbanDF = DF_Combined[DF_Combined[\"type\"]==\"Urban\"]\n",
    "SuburbanDF = DF_Combined[DF_Combined[\"type\"]==\"Suburban\"]\n",
    "RuralDF = DF_Combined[DF_Combined[\"type\"]==\"Rural\"]\n",
    "\n",
    "# Circle size correlates to driver count per city (each circle is one city)\n",
    "# Get count of rides per ride id\n",
    "UrbanRides = UrbanDF.groupby([\"city\"]).count()[\"ride_id\"] #giving us the count of rides based on the ride id\n",
    "SuburbanRides = SuburbanDF.groupby([\"city\"]).count()[\"ride_id\"]\n",
    "RuralRides = RuralDF.groupby([\"city\"]).count()[\"ride_id\"]\n",
    "\n",
    "# Get the average fare\n",
    "RuralAvgFare = RuralDF.groupby([\"city\"]).mean()[\"fare\"]\n",
    "SuburbanAvgFare = SuburbanDF.groupby([\"city\"]).mean()[\"fare\"]\n",
    "UrbanAvgFare = UrbanDF.groupby([\"city\"]).mean()[\"fare\"]\n",
    "\n",
    "# Get Driver Count\n",
    "RuralDriverCount = RuralDF.groupby([\"city\"]).mean()[\"driver_count\"] #we still use mean function because we want to use the driver count number(38) not add them\n",
    "SuburbanDriverCount = SuburbanDF.groupby([\"city\"]).mean()[\"driver_count\"]\n",
    "UrbanDriverCount = UrbanDF.groupby([\"city\"]).mean()[\"driver_count\"]\n",
    "\n",
    "# Build the scatter plots for each city types\n",
    "plt.scatter(UrbanRides,UrbanAvgFare , s = 8*UrbanDriverCount , c = \"gold\" , marker = \"o\" , label = \"Urban\" , edgecolors = \"black\" )\n",
    "plt.scatter(SuburbanRides,SuburbanAvgFare , s = 8*SuburbanDriverCount , c = \"lightskyblue\" , marker = \"o\", label = \"Suburban\", edgecolors = \"black\")\n",
    "plt.scatter(RuralRides,RuralAvgFare , s = 8*RuralDriverCount , c = \"lightcoral\" , marker = \"o\" , label = \"Rural\" , edgecolors = \"black\" )\n",
    "\n",
    "# Label Axes and Title\n",
    "plt.xlabel(\"Ride Sharing Bubble (Scatter) Plot\")\n",
    "plt.ylabel(\"Average Fare\")\n",
    "plt.title(\"Pyber: City Type Average Fare\")\n",
    "\n",
    "# Add grid\n",
    "plt.grid(True)\n",
    "\n",
    "# Create Legend\n",
    "plt.legend(loc = \"best\" , title = \"City Type\")\n",
    "\n",
    "# SAave and Show PLot\n",
    "plt.savefig(\"Output/bpina_Output_BubblePlot\")\n",
    "plt.show()\n"
   ]
  },
  {
   "cell_type": "markdown",
   "metadata": {},
   "source": [
    "## Total Fares by City Type"
   ]
  },
  {
   "cell_type": "code",
   "execution_count": 15,
   "metadata": {},
   "outputs": [
    {
     "name": "stdout",
     "output_type": "stream",
     "text": [
      "type\n",
      "Rural        125\n",
      "Suburban     625\n",
      "Urban       1625\n",
      "Name: fare, dtype: int64\n",
      "Index(['Rural', 'Suburban', 'Urban'], dtype='object', name='type')\n"
     ]
    },
    {
     "data": {
      "text/plain": [
       "(-3.0525426054908107,\n",
       " 42.10339457289553,\n",
       " -3.2354855704773415,\n",
       " 45.69296713127969)"
      ]
     },
     "execution_count": 15,
     "metadata": {},
     "output_type": "execute_result"
    }
   ],
   "source": [
    "#############################\n",
    "# TOTAL FARES PER CITY TYPE\n",
    "#############################\n",
    "\n",
    "CombinedTotalFaresPerType = DF_Combined.groupby(\"type\").count()[\"fare\"]\n",
    "print(CombinedTotalFaresPerType)\n",
    "\n",
    "# Generate List with Keys (Labels)\n",
    "CityTypeKeys = CombinedTotalFaresPerType.keys()\n",
    "print(CityTypeKeys)\n",
    "\n",
    "# Create a Pie Chart\n",
    "plt.pie(CombinedTotalFaresPerType , labels = CityTypeKeys , autopct = \"%1.1f%%\" , shadow = True , startangle = 90)\n",
    "\n",
    "# Set Title\n",
    "plt.title(\"Percent of Total Fares by City Type\")\n",
    "\n",
    "# Save and show plot\n",
    "plt.savefig(\"Output/bp_output_PieChart_TotalFARESByCityType.png\")\n",
    "plt.show()\n",
    "plt.axis(\"equal\")"
   ]
  },
  {
   "cell_type": "markdown",
   "metadata": {},
   "source": [
    "## Total Rides by City Type"
   ]
  },
  {
   "cell_type": "code",
   "execution_count": 19,
   "metadata": {},
   "outputs": [
    {
     "name": "stdout",
     "output_type": "stream",
     "text": [
      "type\n",
      "Rural        125\n",
      "Suburban     625\n",
      "Urban       1625\n",
      "Name: ride_id, dtype: int64\n"
     ]
    },
    {
     "data": {
      "text/plain": [
       "(-3.0525426054908107,\n",
       " 42.10339457289553,\n",
       " -3.2354855704773415,\n",
       " 45.69296713127969)"
      ]
     },
     "execution_count": 19,
     "metadata": {},
     "output_type": "execute_result"
    }
   ],
   "source": [
    "#############################\n",
    "# TOTAL RIDES PER CITY TYPE\n",
    "#############################\n",
    "\n",
    "CombinedTotalRidesPerType = DF_Combined.groupby(\"type\").count()[\"ride_id\"]\n",
    "print(CombinedTotalRidesPerType)\n",
    "\n",
    "# Create a Pie Chart\n",
    "plt.pie(CombinedTotalRidesPerType , labels = CityTypeKeys , autopct = \"%1.1f%%\" , shadow = True , startangle = 90)\n",
    "\n",
    "# Set Title\n",
    "plt.title(\"Percent of Total Rides by City Type\")\n",
    "\n",
    "# Save and show plot\n",
    "plt.savefig(\"Output/bp_output_PieChart_TotalRIDESByCityType.png\")\n",
    "plt.axis(\"equal\")"
   ]
  },
  {
   "cell_type": "code",
   "execution_count": 20,
   "metadata": {},
   "outputs": [],
   "source": [
    "plt.show()"
   ]
  },
  {
   "cell_type": "markdown",
   "metadata": {},
   "source": [
    "## Total Drivers by City Type"
   ]
  },
  {
   "cell_type": "code",
   "execution_count": 1,
   "metadata": {},
   "outputs": [
    {
     "ename": "NameError",
     "evalue": "name 'DF_Combined' is not defined",
     "output_type": "error",
     "traceback": [
      "\u001b[1;31m---------------------------------------------------------------------------\u001b[0m",
      "\u001b[1;31mNameError\u001b[0m                                 Traceback (most recent call last)",
      "\u001b[1;32m<ipython-input-1-58719c6624e7>\u001b[0m in \u001b[0;36m<module>\u001b[1;34m()\u001b[0m\n\u001b[0;32m      3\u001b[0m \u001b[1;31m#############################\u001b[0m\u001b[1;33m\u001b[0m\u001b[1;33m\u001b[0m\u001b[0m\n\u001b[0;32m      4\u001b[0m \u001b[1;33m\u001b[0m\u001b[0m\n\u001b[1;32m----> 5\u001b[1;33m \u001b[0mCombinedTotalDriversPerType\u001b[0m \u001b[1;33m=\u001b[0m \u001b[0mDF_Combined\u001b[0m\u001b[1;33m.\u001b[0m\u001b[0mgroupby\u001b[0m\u001b[1;33m(\u001b[0m\u001b[1;34m\"type\"\u001b[0m\u001b[1;33m)\u001b[0m\u001b[1;33m.\u001b[0m\u001b[0mcount\u001b[0m\u001b[1;33m(\u001b[0m\u001b[1;33m)\u001b[0m\u001b[1;33m[\u001b[0m\u001b[1;34m\"driver_count\"\u001b[0m\u001b[1;33m]\u001b[0m\u001b[1;33m\u001b[0m\u001b[0m\n\u001b[0m\u001b[0;32m      6\u001b[0m \u001b[0mprint\u001b[0m\u001b[1;33m(\u001b[0m\u001b[0mCombinedTotalDriversPerType\u001b[0m\u001b[1;33m)\u001b[0m\u001b[1;33m\u001b[0m\u001b[0m\n\u001b[0;32m      7\u001b[0m \u001b[1;33m\u001b[0m\u001b[0m\n",
      "\u001b[1;31mNameError\u001b[0m: name 'DF_Combined' is not defined"
     ]
    }
   ],
   "source": [
    "#############################\n",
    "# TOTAL DRIVERS PER CITY TYPE (80 urban, 16 sub, 2.6 rural)\n",
    "#############################\n",
    "\n",
    "CombinedTotalDriversPerType = DF_Combined.groupby(\"type\").count()[\"driver_count\"]\n",
    "print(CombinedTotalDriversPerType)\n",
    "\n",
    "# Create a Pie Chart\n",
    "plt.pie(CombinedTotalDriversPerType , labels = CityTypeKeys , autopct = \"%1.1f%%\" , shadow = True , startangle = 90)\n",
    "\n",
    "# Set Title\n",
    "plt.title(\"Percent of Total Drivers by City Type\")\n",
    "\n",
    "# Save and show plot\n",
    "plt.savefig(\"Output/bp_output_PieChart_TotalDRIVERSByCityType.png\")\n",
    "plt.show()\n",
    "plt.axis(\"equal\")"
   ]
  },
  {
   "cell_type": "code",
   "execution_count": 6,
   "metadata": {
    "scrolled": true
   },
   "outputs": [
    {
     "data": {
      "image/png": "[encoded data removed]",
      "text/plain": [
       "<Figure size 432x288 with 1 Axes>"
      ]
     },
     "metadata": {},
     "output_type": "display_data"
    }
   ],
   "source": [
    "# Show Figure\n",
    "plt.show()"
   ]
  },
  {
   "cell_type": "code",
   "execution_count": null,
   "metadata": {},
   "outputs": [],
   "source": []
  }
 ],
 "metadata": {
  "anaconda-cloud": {},
  "kernelspec": {
   "display_name": "Python 3",
   "language": "python",
   "name": "python3"
  },
  "language_info": {
   "codemirror_mode": {
    "name": "ipython",
    "version": 3
   },
   "file_extension": ".py",
   "mimetype": "text/x-python",
   "name": "python",
   "nbconvert_exporter": "python",
   "pygments_lexer": "ipython3",
   "version": "3.6.5"
  }
 },
 "nbformat": 4,
 "nbformat_minor": 2
}
